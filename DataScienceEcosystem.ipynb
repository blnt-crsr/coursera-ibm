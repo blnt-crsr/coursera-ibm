{
 "cells": [
  {
   "cell_type": "markdown",
   "id": "7ea2424a-60b1-4526-83f4-60240a719832",
   "metadata": {},
   "source": [
    "# Data Science Tools and Ecosystem"
   ]
  },
  {
   "cell_type": "markdown",
   "id": "c2207afd-2c5c-4fe1-84a1-105f8a66b94e",
   "metadata": {},
   "source": [
    "In this notebook, Data Science Tools and Ecosystem are summarized."
   ]
  },
  {
   "cell_type": "markdown",
   "id": "8b1111c4-fd8a-4cd0-b520-1cb4fa3a50e6",
   "metadata": {},
   "source": [
    "__Objectives:__\n",
    "- data science tools\n",
    "- data science languages\n",
    "- data science libraries\n",
    "- Jupyterlab\n",
    "- Rstudio"
   ]
  },
  {
   "cell_type": "markdown",
   "id": "442c9024-599b-4bf2-992d-70fbd714783d",
   "metadata": {},
   "source": [
    "Some of the popular languages that Data Scientists use are:\n",
    "1. Python\n",
    "2. R4-dslanguages.png\n",
    "3. Julia\n",
    "4. SQL\n",
    "5. Scala"
   ]
  },
  {
   "cell_type": "markdown",
   "id": "62013fe0-d544-458e-a783-9e6aec98ce60",
   "metadata": {},
   "source": [
    "Some of the commonly used libraries used by Data Scientists include:\n",
    "1. Numpy\n",
    "2. Pandas\n",
    "3. Tensorflow\n",
    "4. Keras\n",
    "5. Pytorch"
   ]
  },
  {
   "cell_type": "markdown",
   "id": "cdb54e50-cd09-4a80-8247-fdd59fb1ba7c",
   "metadata": {},
   "source": [
    "| Data Science Tools |\n",
    "| ---- |\n",
    "| Jupyterlab |\n",
    "| Apache Hadoop |\n",
    "| Apache Spark |"
   ]
  },
  {
   "cell_type": "markdown",
   "id": "754a37a2-5989-4bd5-9198-79e4341b0d16",
   "metadata": {},
   "source": [
    "### Below are a few examples of evaluating arithmetic expressions in Python\n"
   ]
  },
  {
   "cell_type": "code",
   "execution_count": 2,
   "id": "b9205d15-f2f0-4fb4-b91a-72e0c2fe857a",
   "metadata": {},
   "outputs": [
    {
     "data": {
      "text/plain": [
       "17"
      ]
     },
     "execution_count": 2,
     "metadata": {},
     "output_type": "execute_result"
    }
   ],
   "source": [
    "(3*4)+5\n",
    "#This a simple arithmetic expression to mutiply then add integers#"
   ]
  },
  {
   "cell_type": "code",
   "execution_count": 3,
   "id": "ff077d70-31bf-417d-bb5f-691239911bd7",
   "metadata": {},
   "outputs": [
    {
     "data": {
      "text/plain": [
       "3.3333333333333335"
      ]
     },
     "execution_count": 3,
     "metadata": {},
     "output_type": "execute_result"
    }
   ],
   "source": [
    "200/60\n",
    "#This will convert 200 minutes to hours by diving by 60#"
   ]
  },
  {
   "cell_type": "markdown",
   "id": "82839ce0-c13e-4ee3-acef-fd490679b0d8",
   "metadata": {},
   "source": [
    "## Author\n",
    "Balint"
   ]
  },
  {
   "cell_type": "code",
   "execution_count": null,
   "id": "3e306290-4330-493a-b349-d80a981e735f",
   "metadata": {},
   "outputs": [],
   "source": []
  }
 ],
 "metadata": {
  "kernelspec": {
   "display_name": "Python 3 (ipykernel)",
   "language": "python",
   "name": "python3"
  },
  "language_info": {
   "codemirror_mode": {
    "name": "ipython",
    "version": 3
   },
   "file_extension": ".py",
   "mimetype": "text/x-python",
   "name": "python",
   "nbconvert_exporter": "python",
   "pygments_lexer": "ipython3",
   "version": "3.13.0"
  }
 },
 "nbformat": 4,
 "nbformat_minor": 5
}
